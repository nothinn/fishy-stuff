{
 "cells": [
  {
   "cell_type": "markdown",
   "metadata": {},
   "source": [
    "# Classification model:\n"
   ]
  },
  {
   "cell_type": "markdown",
   "metadata": {},
   "source": [
    "## Dataloader (PATHS SHOULD BE FIXED)"
   ]
  },
  {
   "cell_type": "code",
   "execution_count": 13,
   "metadata": {},
   "outputs": [],
   "source": [
    "import glob\n",
    "import os\n",
    "import torch\n",
    "from PIL import Image\n",
    "from torch.autograd import Variable\n",
    "import torch.nn as nn\n",
    "import torch.nn.functional as F\n",
    "import torch.optim as optim\n",
    "from torch.utils.data import DataLoader\n",
    "from torch.utils.tensorboard import SummaryWriter\n",
    "import torchvision.transforms as transforms\n",
    "import torchvision\n",
    "import numpy as np\n",
    "from skimage.io import imread\n",
    "from skimage.transform import resize\n",
    "import sys\n",
    "from tqdm import tqdm\n",
    "\n",
    "\n",
    "sys.path.append(os.path.join('.', '..')) # Allow us to import shared custom \n",
    "                                         # libraries, like utils.py\n",
    "\n",
    "image_paths = glob.glob('../../../extracted')\n",
    "len(image_paths)\n",
    "\n",
    "fishies = {\"p virens\" : 0, \"g morhua\": 1, \"h lanceolatus\" : 2, \"background\" : 3}\n",
    "\n",
    "class Fishy(torch.utils.data.Dataset):\n",
    "    \"\"\"\n",
    "    Description of fishy class\n",
    "\n",
    "    Attributes:\n",
    "        train : Percentage of set used for training.\n",
    "        transform : \n",
    "        data_path : Path to images\n",
    "    \"\"\"\n",
    "\n",
    "    def __init__(self, train, transform, data_path='extracted', category_path=\"all_fish.txt\"):\n",
    "        \"\"\"\n",
    "        Constructor for Fishy class\n",
    "\n",
    "            Parameters:\n",
    "                train : Percentage of set used for training.\n",
    "                transform : \n",
    "                data_path : Path to images\n",
    "        \"\"\"\n",
    "        self.transform = transform\n",
    "        #data_path = os.path.join(data_path, 'train' if train else 'test')\n",
    "        fp = open(category_path, 'r')\n",
    "        #i.split(\";\")[1][1:-1]\n",
    "\n",
    "        #self.fish_dict =  {i.split(\";\")[0] : fishies[i.split(\";\")[1][1:-1]] for i in fp}\n",
    "        self.fish_dict = {}\n",
    "        count_categories = 0\n",
    "        for i in fp:\n",
    "            if self.fish_dict.get(fishies[i.split(\";\")[1][1:-1]]):\n",
    "                self.fish_dict[fishies[i.split(\";\")[1][1:-1]]].append(i.split(\";\")[0])\n",
    "            else:\n",
    "                self.fish_dict[fishies[i.split(\";\")[1][1:-1]]] = [i.split(\";\")[0]]\n",
    "                count_categories+=1\n",
    "        \n",
    "        self.mostPicturesSameCat = max([len(v) for k,v in self.fish_dict.items()])\n",
    "        self.lengthOfArray = self.mostPicturesSameCat * count_categories\n",
    "        #self.name_to_label = [i.split(\";\")[1][1:-1] for i in fp]\n",
    "        self.image_paths = glob.glob(data_path + '/*.jpg')\n",
    "        \n",
    "    def __len__(self):\n",
    "        \"\"\"\n",
    "        Returns the total number of samples\n",
    "        Returns :\n",
    "            int : The total number of images\n",
    "        \"\"\"\n",
    "        return self.lengthOfArray\n",
    "\n",
    "    def __getitem__(self, idx):\n",
    "        \"\"\"\n",
    "        Generates one sample of data\n",
    "\n",
    "        Parameters:\n",
    "            idx (int): Index for image\n",
    "\n",
    "        Returns :\n",
    "            Image : Transformed image.\n",
    "        \"\"\"\n",
    "\n",
    "        category = idx//self.mostPicturesSameCat\n",
    "\n",
    "        pictures = self.fish_dict[category]\n",
    "        idLookup = idx - self.mostPicturesSameCat * category\n",
    "        picture = pictures[idLookup % len(pictures)]\n",
    "\n",
    "        image_path = \"extracted/\" + picture + \".jpg\" #self.image_paths[idx] \n",
    "        \n",
    "        #lookup = image_path.split(\"/\")[-1].split(\".\")[0]\n",
    "        \n",
    "        image = Image.open(image_path)\n",
    "        #y = self.name_to_label[idx]\n",
    "        #y = self.fish_dict[lookup]\n",
    "        X = self.transform(image)\n",
    "        return X,category\n",
    "\n",
    "def createDataLoaders(batch_size, size,rotation = 45, train_distribution = 0.8):\n",
    "    #For testing\n",
    "    transform = transforms.Compose(\n",
    "        [transforms.Resize((size,size)),\n",
    "        transforms.RandomRotation(rotation),\n",
    "        transforms.RandomVerticalFlip(),\n",
    "        transforms.ToTensor(),\n",
    "        transforms.Normalize((0.5, 0.5, 0.5),\n",
    "                            (0.5, 0.5, 0.5))]\n",
    "    )\n",
    "    full_dataset = Fishy(train=True, transform=transform)\n",
    "    train_size = int(train_distribution * len(full_dataset))\n",
    "    test_size = len(full_dataset) - train_size\n",
    "    trainset, testset = torch.utils.data.random_split(full_dataset, [train_size, test_size])\n",
    "    #trainset = Fishy(train=True, transform=transform)\n",
    "    #testset = Fishy(train=False, transform=transform)\n",
    "    train_loader = DataLoader(trainset, batch_size=batch_size, shuffle=True, num_workers=6)\n",
    "    test_loader = DataLoader(testset, batch_size=batch_size, shuffle=False, num_workers=6)\n",
    "\n",
    "    return train_loader, test_loader, trainset, testset"
   ]
  },
  {
   "cell_type": "markdown",
   "metadata": {},
   "source": [
    "## Network declaration:"
   ]
  },
  {
   "cell_type": "code",
   "execution_count": 7,
   "metadata": {},
   "outputs": [],
   "source": [
    "from torch.utils.data import DataLoader\n",
    "'''\n",
    "height, width = 512, 512\n",
    "num_classes   = 4\n",
    "\n",
    "channels        = 3        \n",
    "kernel_size     = 3\n",
    "conv_stride     = 1\n",
    "conv_pad        = 1\n",
    "conv_drop_rate  = 0.4\n",
    "'''\n",
    "\n",
    "\n",
    "class Net(nn.Module):\n",
    "    def __init__(self, channels, kernel_size,conv_stride, conv_pad, conv_drop_rate, num_classes, image_size):\n",
    "        super(Net, self).__init__()\n",
    "        self.conv = nn.Sequential(\n",
    "            nn.Conv2d(in_channels = channels, #3 channels\n",
    "                out_channels = 16, \n",
    "                kernel_size = kernel_size, \n",
    "                stride = conv_stride, \n",
    "                padding = conv_pad),\n",
    "\n",
    "            nn.BatchNorm2d(num_features = 16),\n",
    "\n",
    "            nn.MaxPool2d(2),\n",
    "\n",
    "            nn.ReLU(),\n",
    "\n",
    "            nn.Dropout2d(p=conv_drop_rate),\n",
    "\n",
    "            nn.Conv2d(in_channels = 16, \n",
    "                out_channels = 32, \n",
    "                kernel_size = kernel_size, \n",
    "                stride = conv_stride, \n",
    "                padding = conv_pad),\n",
    "\n",
    "            nn.BatchNorm2d(num_features = 32),\n",
    "\n",
    "            nn.ReLU(),\n",
    "\n",
    "            nn.Dropout2d(p=conv_drop_rate),\n",
    "\n",
    "            nn.Conv2d(in_channels = 32, \n",
    "                out_channels = 64, \n",
    "                kernel_size = kernel_size, \n",
    "                stride = conv_stride, \n",
    "                padding = conv_pad)\n",
    "\n",
    "        )\n",
    "\n",
    "        self.fc = nn.Sequential(\n",
    "            nn.Linear(in_features = 64 * (image_size//2) * (image_size//2), out_features = 256, bias = True),\n",
    "            \n",
    "            #nn.BatchNorm1d(256),\n",
    "            \n",
    "            nn.ReLU(),\n",
    "\n",
    "            nn.Linear(in_features = 256, out_features = num_classes, bias = False),\n",
    "\n",
    "            nn.Softmax(dim = 1)\n",
    "        )\n",
    "\n",
    "    def forward(self, x):\n",
    "        x_img = self.conv(x)\n",
    "        x_img = x_img.view(x_img.shape[0],-1)\n",
    "        \n",
    "        out = self.fc(x_img)\n",
    "        return out"
   ]
  },
  {
   "cell_type": "markdown",
   "metadata": {},
   "source": [
    "## Training and evaluating network"
   ]
  },
  {
   "cell_type": "code",
   "execution_count": 14,
   "metadata": {},
   "outputs": [
    {
     "name": "stderr",
     "output_type": "stream",
     "text": [
      "\r",
      "  0%|          | 0/50 [00:00<?, ?it/s]"
     ]
    },
    {
     "name": "stdout",
     "output_type": "stream",
     "text": [
      "Using device: cuda\n",
      "Net(\n",
      "  (conv): Sequential(\n",
      "    (0): Conv2d(3, 16, kernel_size=(3, 3), stride=(1, 1), padding=(1, 1))\n",
      "    (1): BatchNorm2d(16, eps=1e-05, momentum=0.1, affine=True, track_running_stats=True)\n",
      "    (2): MaxPool2d(kernel_size=2, stride=2, padding=0, dilation=1, ceil_mode=False)\n",
      "    (3): ReLU()\n",
      "    (4): Dropout2d(p=0.4, inplace=False)\n",
      "    (5): Conv2d(16, 32, kernel_size=(3, 3), stride=(1, 1), padding=(1, 1))\n",
      "    (6): BatchNorm2d(32, eps=1e-05, momentum=0.1, affine=True, track_running_stats=True)\n",
      "    (7): ReLU()\n",
      "    (8): Dropout2d(p=0.4, inplace=False)\n",
      "    (9): Conv2d(32, 64, kernel_size=(3, 3), stride=(1, 1), padding=(1, 1))\n",
      "  )\n",
      "  (fc): Sequential(\n",
      "    (0): Linear(in_features=65536, out_features=256, bias=True)\n",
      "    (1): ReLU()\n",
      "    (2): Linear(in_features=256, out_features=4, bias=False)\n",
      "    (3): Softmax(dim=1)\n",
      "  )\n",
      ")\n",
      "[1,     2] loss: 0.003\n",
      "[1,    12] loss: 0.013\n",
      "[1,    22] loss: 0.013\n",
      "[1,    32] loss: 0.012\n",
      "[1,    42] loss: 0.012\n",
      "[1,    52] loss: 0.012\n",
      "[1,    62] loss: 0.012\n",
      "[1,    72] loss: 0.012\n"
     ]
    },
    {
     "name": "stderr",
     "output_type": "stream",
     "text": [
      "\r",
      "  2%|▏         | 1/50 [00:03<02:57,  3.62s/it]"
     ]
    },
    {
     "name": "stdout",
     "output_type": "stream",
     "text": [
      "Accuracy train: 52.5%\t test: 72.2%\n",
      "[2,     2] loss: 0.002\n",
      "[2,    12] loss: 0.010\n",
      "[2,    22] loss: 0.010\n",
      "[2,    32] loss: 0.010\n",
      "[2,    42] loss: 0.010\n",
      "[2,    52] loss: 0.009\n",
      "[2,    62] loss: 0.009\n",
      "[2,    72] loss: 0.009\n"
     ]
    },
    {
     "name": "stderr",
     "output_type": "stream",
     "text": [
      "\r",
      "  4%|▍         | 2/50 [00:07<02:53,  3.62s/it]"
     ]
    },
    {
     "name": "stdout",
     "output_type": "stream",
     "text": [
      "Accuracy train: 86.5%\t test: 96.1%\n",
      "[3,     2] loss: 0.002\n",
      "[3,    12] loss: 0.009\n",
      "[3,    22] loss: 0.009\n",
      "[3,    32] loss: 0.009\n",
      "[3,    42] loss: 0.008\n",
      "[3,    52] loss: 0.008\n",
      "[3,    62] loss: 0.008\n",
      "[3,    72] loss: 0.008\n"
     ]
    },
    {
     "name": "stderr",
     "output_type": "stream",
     "text": [
      "\r",
      "  6%|▌         | 3/50 [00:10<02:49,  3.61s/it]"
     ]
    },
    {
     "name": "stdout",
     "output_type": "stream",
     "text": [
      "Accuracy train: 97.8%\t test: 98.6%\n",
      "[4,     2] loss: 0.002\n",
      "[4,    12] loss: 0.008\n",
      "[4,    22] loss: 0.008\n",
      "[4,    32] loss: 0.008\n",
      "[4,    42] loss: 0.008\n",
      "[4,    52] loss: 0.008\n",
      "[4,    62] loss: 0.008\n",
      "[4,    72] loss: 0.008\n"
     ]
    },
    {
     "name": "stderr",
     "output_type": "stream",
     "text": [
      "\r",
      "  8%|▊         | 4/50 [00:14<02:44,  3.57s/it]"
     ]
    },
    {
     "name": "stdout",
     "output_type": "stream",
     "text": [
      "Accuracy train: 99.1%\t test: 99.5%\n",
      "[5,     2] loss: 0.002\n",
      "[5,    12] loss: 0.008\n",
      "[5,    22] loss: 0.008\n",
      "[5,    32] loss: 0.008\n",
      "[5,    42] loss: 0.008\n",
      "[5,    52] loss: 0.008\n",
      "[5,    62] loss: 0.008\n",
      "[5,    72] loss: 0.008\n"
     ]
    },
    {
     "name": "stderr",
     "output_type": "stream",
     "text": [
      "\r",
      " 10%|█         | 5/50 [00:17<02:39,  3.54s/it]"
     ]
    },
    {
     "name": "stdout",
     "output_type": "stream",
     "text": [
      "Accuracy train: 99.4%\t test: 99.6%\n",
      "[6,     2] loss: 0.002\n",
      "[6,    12] loss: 0.008\n",
      "[6,    22] loss: 0.008\n",
      "[6,    32] loss: 0.008\n",
      "[6,    42] loss: 0.008\n",
      "[6,    52] loss: 0.008\n",
      "[6,    62] loss: 0.008\n",
      "[6,    72] loss: 0.008\n"
     ]
    },
    {
     "name": "stderr",
     "output_type": "stream",
     "text": [
      "\r",
      " 12%|█▏        | 6/50 [00:21<02:34,  3.52s/it]"
     ]
    },
    {
     "name": "stdout",
     "output_type": "stream",
     "text": [
      "Accuracy train: 99.7%\t test: 99.8%\n",
      "[7,     2] loss: 0.002\n",
      "[7,    12] loss: 0.008\n",
      "[7,    22] loss: 0.008\n",
      "[7,    32] loss: 0.008\n",
      "[7,    42] loss: 0.008\n",
      "[7,    52] loss: 0.008\n",
      "[7,    62] loss: 0.008\n",
      "[7,    72] loss: 0.008\n"
     ]
    },
    {
     "name": "stderr",
     "output_type": "stream",
     "text": [
      "\r",
      " 14%|█▍        | 7/50 [00:24<02:32,  3.54s/it]"
     ]
    },
    {
     "name": "stdout",
     "output_type": "stream",
     "text": [
      "Accuracy train: 99.7%\t test: 99.8%\n",
      "[8,     2] loss: 0.002\n",
      "[8,    12] loss: 0.008\n",
      "[8,    22] loss: 0.008\n",
      "[8,    32] loss: 0.008\n",
      "[8,    42] loss: 0.008\n",
      "[8,    52] loss: 0.008\n",
      "[8,    62] loss: 0.008\n",
      "[8,    72] loss: 0.008\n"
     ]
    },
    {
     "name": "stderr",
     "output_type": "stream",
     "text": [
      "\r",
      " 16%|█▌        | 8/50 [00:28<02:28,  3.54s/it]"
     ]
    },
    {
     "name": "stdout",
     "output_type": "stream",
     "text": [
      "Accuracy train: 99.7%\t test: 99.8%\n",
      "[9,     2] loss: 0.002\n",
      "[9,    12] loss: 0.008\n",
      "[9,    22] loss: 0.008\n",
      "[9,    32] loss: 0.008\n",
      "[9,    42] loss: 0.008\n",
      "[9,    52] loss: 0.008\n",
      "[9,    62] loss: 0.008\n",
      "[9,    72] loss: 0.007\n"
     ]
    },
    {
     "name": "stderr",
     "output_type": "stream",
     "text": [
      "\r",
      " 18%|█▊        | 9/50 [00:31<02:25,  3.56s/it]"
     ]
    },
    {
     "name": "stdout",
     "output_type": "stream",
     "text": [
      "Accuracy train: 99.7%\t test: 99.8%\n",
      "[10,     2] loss: 0.002\n",
      "[10,    12] loss: 0.008\n",
      "[10,    22] loss: 0.007\n",
      "[10,    32] loss: 0.007\n",
      "[10,    42] loss: 0.008\n",
      "[10,    52] loss: 0.008\n",
      "[10,    62] loss: 0.008\n",
      "[10,    72] loss: 0.008\n"
     ]
    },
    {
     "name": "stderr",
     "output_type": "stream",
     "text": [
      "\r",
      " 20%|██        | 10/50 [00:35<02:22,  3.56s/it]"
     ]
    },
    {
     "name": "stdout",
     "output_type": "stream",
     "text": [
      "Accuracy train: 99.7%\t test: 99.8%\n",
      "[11,     2] loss: 0.001\n",
      "[11,    12] loss: 0.008\n",
      "[11,    22] loss: 0.007\n",
      "[11,    32] loss: 0.007\n",
      "[11,    42] loss: 0.008\n",
      "[11,    52] loss: 0.007\n",
      "[11,    62] loss: 0.008\n",
      "[11,    72] loss: 0.007\n"
     ]
    },
    {
     "name": "stderr",
     "output_type": "stream",
     "text": [
      "\r",
      " 22%|██▏       | 11/50 [00:39<02:18,  3.55s/it]"
     ]
    },
    {
     "name": "stdout",
     "output_type": "stream",
     "text": [
      "Accuracy train: 99.7%\t test: 99.8%\n",
      "[12,     2] loss: 0.001\n",
      "[12,    12] loss: 0.008\n",
      "[12,    22] loss: 0.008\n",
      "[12,    32] loss: 0.007\n",
      "[12,    42] loss: 0.007\n",
      "[12,    52] loss: 0.007\n",
      "[12,    62] loss: 0.008\n",
      "[12,    72] loss: 0.007\n"
     ]
    },
    {
     "name": "stderr",
     "output_type": "stream",
     "text": [
      "\r",
      " 24%|██▍       | 12/50 [00:42<02:15,  3.55s/it]"
     ]
    },
    {
     "name": "stdout",
     "output_type": "stream",
     "text": [
      "Accuracy train: 99.7%\t test: 99.8%\n",
      "[13,     2] loss: 0.002\n",
      "[13,    12] loss: 0.008\n",
      "[13,    22] loss: 0.007\n",
      "[13,    32] loss: 0.008\n",
      "[13,    42] loss: 0.007\n",
      "[13,    52] loss: 0.008\n",
      "[13,    62] loss: 0.007\n",
      "[13,    72] loss: 0.007\n"
     ]
    },
    {
     "name": "stderr",
     "output_type": "stream",
     "text": [
      "\r",
      " 26%|██▌       | 13/50 [00:46<02:12,  3.57s/it]"
     ]
    },
    {
     "name": "stdout",
     "output_type": "stream",
     "text": [
      "Accuracy train: 99.7%\t test: 99.8%\n",
      "[14,     2] loss: 0.001\n",
      "[14,    12] loss: 0.007\n",
      "[14,    22] loss: 0.007\n",
      "[14,    32] loss: 0.007\n",
      "[14,    42] loss: 0.008\n",
      "[14,    52] loss: 0.007\n",
      "[14,    62] loss: 0.008\n",
      "[14,    72] loss: 0.007\n"
     ]
    },
    {
     "name": "stderr",
     "output_type": "stream",
     "text": [
      "\r",
      " 28%|██▊       | 14/50 [00:49<02:09,  3.59s/it]"
     ]
    },
    {
     "name": "stdout",
     "output_type": "stream",
     "text": [
      "Accuracy train: 99.7%\t test: 99.8%\n",
      "[15,     2] loss: 0.001\n",
      "[15,    12] loss: 0.007\n",
      "[15,    22] loss: 0.007\n",
      "[15,    32] loss: 0.007\n",
      "[15,    42] loss: 0.007\n",
      "[15,    52] loss: 0.007\n",
      "[15,    62] loss: 0.007\n",
      "[15,    72] loss: 0.007\n"
     ]
    },
    {
     "name": "stderr",
     "output_type": "stream",
     "text": [
      "\r",
      " 30%|███       | 15/50 [00:53<02:05,  3.59s/it]"
     ]
    },
    {
     "name": "stdout",
     "output_type": "stream",
     "text": [
      "Accuracy train: 99.7%\t test: 99.8%\n",
      "[16,     2] loss: 0.002\n",
      "[16,    12] loss: 0.007\n",
      "[16,    22] loss: 0.007\n",
      "[16,    32] loss: 0.007\n",
      "[16,    42] loss: 0.007\n",
      "[16,    52] loss: 0.007\n",
      "[16,    62] loss: 0.007\n",
      "[16,    72] loss: 0.007\n"
     ]
    },
    {
     "name": "stderr",
     "output_type": "stream",
     "text": [
      "\r",
      " 32%|███▏      | 16/50 [00:57<02:03,  3.63s/it]"
     ]
    },
    {
     "name": "stdout",
     "output_type": "stream",
     "text": [
      "Accuracy train: 99.7%\t test: 99.8%\n",
      "[17,     2] loss: 0.001\n",
      "[17,    12] loss: 0.007\n",
      "[17,    22] loss: 0.007\n",
      "[17,    32] loss: 0.007\n",
      "[17,    42] loss: 0.008\n",
      "[17,    52] loss: 0.007\n",
      "[17,    62] loss: 0.008\n",
      "[17,    72] loss: 0.007\n"
     ]
    },
    {
     "name": "stderr",
     "output_type": "stream",
     "text": [
      "\r",
      " 34%|███▍      | 17/50 [01:00<02:00,  3.64s/it]"
     ]
    },
    {
     "name": "stdout",
     "output_type": "stream",
     "text": [
      "Accuracy train: 99.7%\t test: 99.8%\n",
      "[18,     2] loss: 0.001\n",
      "[18,    12] loss: 0.008\n",
      "[18,    22] loss: 0.007\n",
      "[18,    32] loss: 0.007\n",
      "[18,    42] loss: 0.007\n",
      "[18,    52] loss: 0.007\n",
      "[18,    62] loss: 0.007\n",
      "[18,    72] loss: 0.007\n"
     ]
    },
    {
     "name": "stderr",
     "output_type": "stream",
     "text": [
      "\r",
      " 36%|███▌      | 18/50 [01:04<01:55,  3.60s/it]"
     ]
    },
    {
     "name": "stdout",
     "output_type": "stream",
     "text": [
      "Accuracy train: 99.7%\t test: 99.9%\n",
      "[19,     2] loss: 0.002\n",
      "[19,    12] loss: 0.007\n",
      "[19,    22] loss: 0.007\n",
      "[19,    32] loss: 0.007\n",
      "[19,    42] loss: 0.007\n",
      "[19,    52] loss: 0.008\n",
      "[19,    62] loss: 0.007\n",
      "[19,    72] loss: 0.007\n"
     ]
    },
    {
     "name": "stderr",
     "output_type": "stream",
     "text": [
      "\r",
      " 38%|███▊      | 19/50 [01:08<01:52,  3.63s/it]"
     ]
    },
    {
     "name": "stdout",
     "output_type": "stream",
     "text": [
      "Accuracy train: 99.7%\t test: 99.8%\n",
      "[20,     2] loss: 0.002\n",
      "[20,    12] loss: 0.007\n",
      "[20,    22] loss: 0.007\n",
      "[20,    32] loss: 0.007\n",
      "[20,    42] loss: 0.007\n",
      "[20,    52] loss: 0.007\n",
      "[20,    62] loss: 0.007\n",
      "[20,    72] loss: 0.007\n"
     ]
    },
    {
     "name": "stderr",
     "output_type": "stream",
     "text": [
      "\r",
      " 40%|████      | 20/50 [01:11<01:48,  3.61s/it]"
     ]
    },
    {
     "name": "stdout",
     "output_type": "stream",
     "text": [
      "Accuracy train: 99.7%\t test: 99.8%\n",
      "[21,     2] loss: 0.002\n",
      "[21,    12] loss: 0.007\n",
      "[21,    22] loss: 0.007\n",
      "[21,    32] loss: 0.007\n",
      "[21,    42] loss: 0.008\n",
      "[21,    52] loss: 0.007\n",
      "[21,    62] loss: 0.007\n",
      "[21,    72] loss: 0.007\n"
     ]
    },
    {
     "name": "stderr",
     "output_type": "stream",
     "text": [
      "\r",
      " 42%|████▏     | 21/50 [01:15<01:44,  3.61s/it]"
     ]
    },
    {
     "name": "stdout",
     "output_type": "stream",
     "text": [
      "Accuracy train: 99.7%\t test: 99.8%\n",
      "[22,     2] loss: 0.001\n",
      "[22,    12] loss: 0.007\n",
      "[22,    22] loss: 0.007\n",
      "[22,    32] loss: 0.007\n",
      "[22,    42] loss: 0.007\n",
      "[22,    52] loss: 0.007\n",
      "[22,    62] loss: 0.007\n",
      "[22,    72] loss: 0.007\n"
     ]
    },
    {
     "name": "stderr",
     "output_type": "stream",
     "text": [
      "\r",
      " 44%|████▍     | 22/50 [01:18<01:39,  3.56s/it]"
     ]
    },
    {
     "name": "stdout",
     "output_type": "stream",
     "text": [
      "Accuracy train: 99.7%\t test: 99.8%\n",
      "[23,     2] loss: 0.001\n",
      "[23,    12] loss: 0.007\n",
      "[23,    22] loss: 0.007\n",
      "[23,    32] loss: 0.007\n",
      "[23,    42] loss: 0.007\n",
      "[23,    52] loss: 0.007\n",
      "[23,    62] loss: 0.007\n",
      "[23,    72] loss: 0.007\n"
     ]
    },
    {
     "name": "stderr",
     "output_type": "stream",
     "text": [
      "\r",
      " 46%|████▌     | 23/50 [01:22<01:36,  3.56s/it]"
     ]
    },
    {
     "name": "stdout",
     "output_type": "stream",
     "text": [
      "Accuracy train: 99.7%\t test: 100.0%\n",
      "[24,     2] loss: 0.001\n",
      "[24,    12] loss: 0.007\n",
      "[24,    22] loss: 0.007\n",
      "[24,    32] loss: 0.007\n",
      "[24,    42] loss: 0.007\n",
      "[24,    52] loss: 0.007\n",
      "[24,    62] loss: 0.007\n",
      "[24,    72] loss: 0.007\n"
     ]
    },
    {
     "name": "stderr",
     "output_type": "stream",
     "text": [
      "\r",
      " 48%|████▊     | 24/50 [01:25<01:33,  3.59s/it]"
     ]
    },
    {
     "name": "stdout",
     "output_type": "stream",
     "text": [
      "Accuracy train: 99.9%\t test: 99.9%\n",
      "[25,     2] loss: 0.001\n",
      "[25,    12] loss: 0.007\n",
      "[25,    22] loss: 0.007\n",
      "[25,    32] loss: 0.007\n",
      "[25,    42] loss: 0.007\n",
      "[25,    52] loss: 0.007\n",
      "[25,    62] loss: 0.007\n",
      "[25,    72] loss: 0.007\n"
     ]
    },
    {
     "name": "stderr",
     "output_type": "stream",
     "text": [
      "\r",
      " 50%|█████     | 25/50 [01:29<01:27,  3.51s/it]"
     ]
    },
    {
     "name": "stdout",
     "output_type": "stream",
     "text": [
      "Accuracy train: 99.8%\t test: 100.0%\n",
      "[26,     2] loss: 0.001\n",
      "[26,    12] loss: 0.007\n",
      "[26,    22] loss: 0.007\n",
      "[26,    32] loss: 0.007\n",
      "[26,    42] loss: 0.007\n",
      "[26,    52] loss: 0.007\n",
      "[26,    62] loss: 0.007\n",
      "[26,    72] loss: 0.007\n"
     ]
    },
    {
     "name": "stderr",
     "output_type": "stream",
     "text": [
      "\r",
      " 52%|█████▏    | 26/50 [01:32<01:22,  3.44s/it]"
     ]
    },
    {
     "name": "stdout",
     "output_type": "stream",
     "text": [
      "Accuracy train: 99.9%\t test: 100.0%\n",
      "[27,     2] loss: 0.001\n",
      "[27,    12] loss: 0.007\n",
      "[27,    22] loss: 0.007\n",
      "[27,    32] loss: 0.007\n",
      "[27,    42] loss: 0.007\n",
      "[27,    52] loss: 0.007\n",
      "[27,    62] loss: 0.007\n",
      "[27,    72] loss: 0.007\n"
     ]
    },
    {
     "name": "stderr",
     "output_type": "stream",
     "text": [
      "\r",
      " 54%|█████▍    | 27/50 [01:35<01:17,  3.39s/it]"
     ]
    },
    {
     "name": "stdout",
     "output_type": "stream",
     "text": [
      "Accuracy train: 99.9%\t test: 100.0%\n",
      "[28,     2] loss: 0.001\n",
      "[28,    12] loss: 0.007\n",
      "[28,    22] loss: 0.007\n",
      "[28,    32] loss: 0.007\n",
      "[28,    42] loss: 0.007\n",
      "[28,    52] loss: 0.007\n",
      "[28,    62] loss: 0.007\n",
      "[28,    72] loss: 0.007\n"
     ]
    },
    {
     "name": "stderr",
     "output_type": "stream",
     "text": [
      "\r",
      " 56%|█████▌    | 28/50 [01:39<01:13,  3.36s/it]"
     ]
    },
    {
     "name": "stdout",
     "output_type": "stream",
     "text": [
      "Accuracy train: 100.0%\t test: 100.0%\n",
      "[29,     2] loss: 0.001\n",
      "[29,    12] loss: 0.007\n",
      "[29,    22] loss: 0.007\n",
      "[29,    32] loss: 0.007\n",
      "[29,    42] loss: 0.007\n",
      "[29,    52] loss: 0.007\n",
      "[29,    62] loss: 0.007\n",
      "[29,    72] loss: 0.007\n"
     ]
    },
    {
     "name": "stderr",
     "output_type": "stream",
     "text": [
      "\r",
      " 58%|█████▊    | 29/50 [01:42<01:12,  3.44s/it]"
     ]
    },
    {
     "name": "stdout",
     "output_type": "stream",
     "text": [
      "Accuracy train: 99.9%\t test: 100.0%\n",
      "[30,     2] loss: 0.001\n",
      "[30,    12] loss: 0.007\n",
      "[30,    22] loss: 0.007\n",
      "[30,    32] loss: 0.007\n",
      "[30,    42] loss: 0.007\n",
      "[30,    52] loss: 0.007\n",
      "[30,    62] loss: 0.007\n",
      "[30,    72] loss: 0.007\n"
     ]
    },
    {
     "name": "stderr",
     "output_type": "stream",
     "text": [
      "\r",
      " 60%|██████    | 30/50 [01:46<01:08,  3.42s/it]"
     ]
    },
    {
     "name": "stdout",
     "output_type": "stream",
     "text": [
      "Accuracy train: 99.9%\t test: 100.0%\n",
      "[31,     2] loss: 0.001\n",
      "[31,    12] loss: 0.007\n",
      "[31,    22] loss: 0.007\n",
      "[31,    32] loss: 0.007\n",
      "[31,    42] loss: 0.007\n",
      "[31,    52] loss: 0.007\n",
      "[31,    62] loss: 0.007\n",
      "[31,    72] loss: 0.007\n"
     ]
    },
    {
     "name": "stderr",
     "output_type": "stream",
     "text": [
      "\r",
      " 62%|██████▏   | 31/50 [01:49<01:04,  3.40s/it]"
     ]
    },
    {
     "name": "stdout",
     "output_type": "stream",
     "text": [
      "Accuracy train: 99.9%\t test: 100.0%\n",
      "[32,     2] loss: 0.001\n",
      "[32,    12] loss: 0.007\n",
      "[32,    22] loss: 0.007\n",
      "[32,    32] loss: 0.007\n",
      "[32,    42] loss: 0.007\n",
      "[32,    52] loss: 0.007\n",
      "[32,    62] loss: 0.007\n",
      "[32,    72] loss: 0.007\n"
     ]
    },
    {
     "name": "stderr",
     "output_type": "stream",
     "text": [
      "\r",
      " 64%|██████▍   | 32/50 [01:52<01:00,  3.37s/it]"
     ]
    },
    {
     "name": "stdout",
     "output_type": "stream",
     "text": [
      "Accuracy train: 100.0%\t test: 100.0%\n",
      "[33,     2] loss: 0.001\n",
      "[33,    12] loss: 0.007\n",
      "[33,    22] loss: 0.007\n",
      "[33,    32] loss: 0.007\n",
      "[33,    42] loss: 0.007\n",
      "[33,    52] loss: 0.007\n",
      "[33,    62] loss: 0.007\n",
      "[33,    72] loss: 0.007\n"
     ]
    },
    {
     "name": "stderr",
     "output_type": "stream",
     "text": [
      "\r",
      " 66%|██████▌   | 33/50 [01:56<00:58,  3.41s/it]"
     ]
    },
    {
     "name": "stdout",
     "output_type": "stream",
     "text": [
      "Accuracy train: 99.9%\t test: 100.0%\n",
      "[34,     2] loss: 0.001\n",
      "[34,    12] loss: 0.007\n",
      "[34,    22] loss: 0.007\n",
      "[34,    32] loss: 0.007\n",
      "[34,    42] loss: 0.007\n",
      "[34,    52] loss: 0.007\n",
      "[34,    62] loss: 0.007\n",
      "[34,    72] loss: 0.007\n"
     ]
    },
    {
     "name": "stderr",
     "output_type": "stream",
     "text": [
      "\r",
      " 68%|██████▊   | 34/50 [02:00<00:56,  3.53s/it]"
     ]
    },
    {
     "name": "stdout",
     "output_type": "stream",
     "text": [
      "Accuracy train: 99.9%\t test: 100.0%\n",
      "[35,     2] loss: 0.001\n",
      "[35,    12] loss: 0.007\n",
      "[35,    22] loss: 0.007\n",
      "[35,    32] loss: 0.007\n",
      "[35,    42] loss: 0.007\n",
      "[35,    52] loss: 0.007\n",
      "[35,    62] loss: 0.007\n",
      "[35,    72] loss: 0.007\n"
     ]
    },
    {
     "name": "stderr",
     "output_type": "stream",
     "text": [
      "\r",
      " 70%|███████   | 35/50 [02:03<00:53,  3.55s/it]"
     ]
    },
    {
     "name": "stdout",
     "output_type": "stream",
     "text": [
      "Accuracy train: 100.0%\t test: 100.0%\n",
      "[36,     2] loss: 0.001\n",
      "[36,    12] loss: 0.007\n",
      "[36,    22] loss: 0.007\n",
      "[36,    32] loss: 0.007\n",
      "[36,    42] loss: 0.007\n",
      "[36,    52] loss: 0.007\n",
      "[36,    62] loss: 0.007\n",
      "[36,    72] loss: 0.007\n"
     ]
    },
    {
     "name": "stderr",
     "output_type": "stream",
     "text": [
      "\r",
      " 72%|███████▏  | 36/50 [02:07<00:49,  3.57s/it]"
     ]
    },
    {
     "name": "stdout",
     "output_type": "stream",
     "text": [
      "Accuracy train: 100.0%\t test: 100.0%\n",
      "[37,     2] loss: 0.001\n",
      "[37,    12] loss: 0.007\n",
      "[37,    22] loss: 0.007\n",
      "[37,    32] loss: 0.007\n",
      "[37,    42] loss: 0.007\n",
      "[37,    52] loss: 0.007\n",
      "[37,    62] loss: 0.007\n",
      "[37,    72] loss: 0.007\n"
     ]
    },
    {
     "name": "stderr",
     "output_type": "stream",
     "text": [
      "\r",
      " 74%|███████▍  | 37/50 [02:10<00:46,  3.56s/it]"
     ]
    },
    {
     "name": "stdout",
     "output_type": "stream",
     "text": [
      "Accuracy train: 100.0%\t test: 100.0%\n",
      "[38,     2] loss: 0.001\n",
      "[38,    12] loss: 0.007\n",
      "[38,    22] loss: 0.007\n",
      "[38,    32] loss: 0.007\n",
      "[38,    42] loss: 0.007\n",
      "[38,    52] loss: 0.007\n",
      "[38,    62] loss: 0.007\n",
      "[38,    72] loss: 0.007\n"
     ]
    },
    {
     "name": "stderr",
     "output_type": "stream",
     "text": [
      "\r",
      " 76%|███████▌  | 38/50 [02:14<00:42,  3.54s/it]"
     ]
    },
    {
     "name": "stdout",
     "output_type": "stream",
     "text": [
      "Accuracy train: 100.0%\t test: 100.0%\n",
      "[39,     2] loss: 0.001\n",
      "[39,    12] loss: 0.007\n",
      "[39,    22] loss: 0.007\n",
      "[39,    32] loss: 0.007\n",
      "[39,    42] loss: 0.007\n",
      "[39,    52] loss: 0.007\n",
      "[39,    62] loss: 0.007\n",
      "[39,    72] loss: 0.007\n"
     ]
    },
    {
     "name": "stderr",
     "output_type": "stream",
     "text": [
      "\r",
      " 78%|███████▊  | 39/50 [02:17<00:38,  3.51s/it]"
     ]
    },
    {
     "name": "stdout",
     "output_type": "stream",
     "text": [
      "Accuracy train: 100.0%\t test: 100.0%\n",
      "[40,     2] loss: 0.001\n",
      "[40,    12] loss: 0.007\n",
      "[40,    22] loss: 0.007\n",
      "[40,    32] loss: 0.007\n",
      "[40,    42] loss: 0.007\n",
      "[40,    52] loss: 0.007\n",
      "[40,    62] loss: 0.007\n",
      "[40,    72] loss: 0.007\n"
     ]
    },
    {
     "name": "stderr",
     "output_type": "stream",
     "text": [
      "\r",
      " 80%|████████  | 40/50 [02:21<00:35,  3.50s/it]"
     ]
    },
    {
     "name": "stdout",
     "output_type": "stream",
     "text": [
      "Accuracy train: 100.0%\t test: 100.0%\n",
      "[41,     2] loss: 0.001\n",
      "[41,    12] loss: 0.007\n",
      "[41,    22] loss: 0.007\n",
      "[41,    32] loss: 0.007\n",
      "[41,    42] loss: 0.007\n",
      "[41,    52] loss: 0.007\n",
      "[41,    62] loss: 0.007\n",
      "[41,    72] loss: 0.007\n"
     ]
    },
    {
     "name": "stderr",
     "output_type": "stream",
     "text": [
      "\r",
      " 82%|████████▏ | 41/50 [02:24<00:31,  3.49s/it]"
     ]
    },
    {
     "name": "stdout",
     "output_type": "stream",
     "text": [
      "Accuracy train: 100.0%\t test: 100.0%\n",
      "[42,     2] loss: 0.001\n",
      "[42,    12] loss: 0.007\n",
      "[42,    22] loss: 0.007\n",
      "[42,    32] loss: 0.007\n",
      "[42,    42] loss: 0.007\n",
      "[42,    52] loss: 0.007\n",
      "[42,    62] loss: 0.007\n",
      "[42,    72] loss: 0.007\n"
     ]
    },
    {
     "name": "stderr",
     "output_type": "stream",
     "text": [
      "\r",
      " 84%|████████▍ | 42/50 [02:28<00:29,  3.66s/it]"
     ]
    },
    {
     "name": "stdout",
     "output_type": "stream",
     "text": [
      "Accuracy train: 100.0%\t test: 100.0%\n",
      "[43,     2] loss: 0.001\n",
      "[43,    12] loss: 0.007\n",
      "[43,    22] loss: 0.007\n",
      "[43,    32] loss: 0.007\n",
      "[43,    42] loss: 0.007\n",
      "[43,    52] loss: 0.007\n",
      "[43,    62] loss: 0.007\n",
      "[43,    72] loss: 0.007\n"
     ]
    },
    {
     "name": "stderr",
     "output_type": "stream",
     "text": [
      "\r",
      " 86%|████████▌ | 43/50 [02:32<00:25,  3.67s/it]"
     ]
    },
    {
     "name": "stdout",
     "output_type": "stream",
     "text": [
      "Accuracy train: 100.0%\t test: 100.0%\n",
      "[44,     2] loss: 0.001\n",
      "[44,    12] loss: 0.007\n",
      "[44,    22] loss: 0.007\n",
      "[44,    32] loss: 0.007\n",
      "[44,    42] loss: 0.007\n",
      "[44,    52] loss: 0.007\n",
      "[44,    62] loss: 0.007\n",
      "[44,    72] loss: 0.007\n"
     ]
    },
    {
     "name": "stderr",
     "output_type": "stream",
     "text": [
      "\r",
      " 88%|████████▊ | 44/50 [02:36<00:21,  3.66s/it]"
     ]
    },
    {
     "name": "stdout",
     "output_type": "stream",
     "text": [
      "Accuracy train: 100.0%\t test: 100.0%\n",
      "[45,     2] loss: 0.001\n",
      "[45,    12] loss: 0.007\n",
      "[45,    22] loss: 0.007\n",
      "[45,    32] loss: 0.007\n",
      "[45,    42] loss: 0.007\n",
      "[45,    52] loss: 0.007\n",
      "[45,    62] loss: 0.007\n",
      "[45,    72] loss: 0.007\n"
     ]
    },
    {
     "name": "stderr",
     "output_type": "stream",
     "text": [
      "\r",
      " 90%|█████████ | 45/50 [02:40<00:19,  3.84s/it]"
     ]
    },
    {
     "name": "stdout",
     "output_type": "stream",
     "text": [
      "Accuracy train: 100.0%\t test: 100.0%\n",
      "[46,     2] loss: 0.001\n",
      "[46,    12] loss: 0.007\n",
      "[46,    22] loss: 0.007\n",
      "[46,    32] loss: 0.007\n",
      "[46,    42] loss: 0.007\n",
      "[46,    52] loss: 0.007\n",
      "[46,    62] loss: 0.007\n",
      "[46,    72] loss: 0.007\n"
     ]
    },
    {
     "name": "stderr",
     "output_type": "stream",
     "text": [
      "\r",
      " 92%|█████████▏| 46/50 [02:44<00:15,  3.92s/it]"
     ]
    },
    {
     "name": "stdout",
     "output_type": "stream",
     "text": [
      "Accuracy train: 100.0%\t test: 100.0%\n",
      "[47,     2] loss: 0.001\n",
      "[47,    12] loss: 0.007\n",
      "[47,    22] loss: 0.007\n",
      "[47,    32] loss: 0.007\n",
      "[47,    42] loss: 0.007\n",
      "[47,    52] loss: 0.007\n",
      "[47,    62] loss: 0.007\n",
      "[47,    72] loss: 0.007\n"
     ]
    },
    {
     "name": "stderr",
     "output_type": "stream",
     "text": [
      "\r",
      " 94%|█████████▍| 47/50 [02:48<00:11,  3.93s/it]"
     ]
    },
    {
     "name": "stdout",
     "output_type": "stream",
     "text": [
      "Accuracy train: 100.0%\t test: 100.0%\n",
      "[48,     2] loss: 0.001\n",
      "[48,    12] loss: 0.007\n",
      "[48,    22] loss: 0.007\n",
      "[48,    32] loss: 0.007\n",
      "[48,    42] loss: 0.007\n",
      "[48,    52] loss: 0.007\n",
      "[48,    62] loss: 0.007\n",
      "[48,    72] loss: 0.007\n"
     ]
    },
    {
     "name": "stderr",
     "output_type": "stream",
     "text": [
      "\r",
      " 96%|█████████▌| 48/50 [02:52<00:07,  3.90s/it]"
     ]
    },
    {
     "name": "stdout",
     "output_type": "stream",
     "text": [
      "Accuracy train: 100.0%\t test: 100.0%\n",
      "[49,     2] loss: 0.001\n",
      "[49,    12] loss: 0.007\n",
      "[49,    22] loss: 0.007\n",
      "[49,    32] loss: 0.007\n",
      "[49,    42] loss: 0.007\n",
      "[49,    52] loss: 0.007\n",
      "[49,    62] loss: 0.007\n",
      "[49,    72] loss: 0.007\n"
     ]
    },
    {
     "name": "stderr",
     "output_type": "stream",
     "text": [
      "\r",
      " 98%|█████████▊| 49/50 [02:56<00:03,  3.90s/it]"
     ]
    },
    {
     "name": "stdout",
     "output_type": "stream",
     "text": [
      "Accuracy train: 100.0%\t test: 100.0%\n",
      "[50,     2] loss: 0.001\n",
      "[50,    12] loss: 0.007\n",
      "[50,    22] loss: 0.007\n",
      "[50,    32] loss: 0.007\n",
      "[50,    42] loss: 0.007\n",
      "[50,    52] loss: 0.007\n",
      "[50,    62] loss: 0.007\n",
      "[50,    72] loss: 0.007\n"
     ]
    },
    {
     "name": "stderr",
     "output_type": "stream",
     "text": [
      "100%|██████████| 50/50 [02:59<00:00,  3.60s/it]"
     ]
    },
    {
     "name": "stdout",
     "output_type": "stream",
     "text": [
      "Accuracy train: 100.0%\t test: 100.0%\n",
      "training over\n",
      "Saved model\n"
     ]
    },
    {
     "name": "stderr",
     "output_type": "stream",
     "text": [
      "\n",
      "/home/thonner/.local/lib/python3.7/site-packages/torch/serialization.py:292: UserWarning: Couldn't retrieve source code for container of type Net. It won't be checked for correctness upon loading.\n",
      "  \"type \" + obj.__name__ + \". It won't be checked \"\n",
      "/home/thonner/.local/lib/python3.7/site-packages/torch/serialization.py:292: UserWarning: Couldn't retrieve source code for container of type Sequential. It won't be checked for correctness upon loading.\n",
      "  \"type \" + obj.__name__ + \". It won't be checked \"\n",
      "/home/thonner/.local/lib/python3.7/site-packages/torch/serialization.py:292: UserWarning: Couldn't retrieve source code for container of type Conv2d. It won't be checked for correctness upon loading.\n",
      "  \"type \" + obj.__name__ + \". It won't be checked \"\n",
      "/home/thonner/.local/lib/python3.7/site-packages/torch/serialization.py:292: UserWarning: Couldn't retrieve source code for container of type BatchNorm2d. It won't be checked for correctness upon loading.\n",
      "  \"type \" + obj.__name__ + \". It won't be checked \"\n",
      "/home/thonner/.local/lib/python3.7/site-packages/torch/serialization.py:292: UserWarning: Couldn't retrieve source code for container of type MaxPool2d. It won't be checked for correctness upon loading.\n",
      "  \"type \" + obj.__name__ + \". It won't be checked \"\n",
      "/home/thonner/.local/lib/python3.7/site-packages/torch/serialization.py:292: UserWarning: Couldn't retrieve source code for container of type ReLU. It won't be checked for correctness upon loading.\n",
      "  \"type \" + obj.__name__ + \". It won't be checked \"\n",
      "/home/thonner/.local/lib/python3.7/site-packages/torch/serialization.py:292: UserWarning: Couldn't retrieve source code for container of type Dropout2d. It won't be checked for correctness upon loading.\n",
      "  \"type \" + obj.__name__ + \". It won't be checked \"\n",
      "/home/thonner/.local/lib/python3.7/site-packages/torch/serialization.py:292: UserWarning: Couldn't retrieve source code for container of type Linear. It won't be checked for correctness upon loading.\n",
      "  \"type \" + obj.__name__ + \". It won't be checked \"\n",
      "/home/thonner/.local/lib/python3.7/site-packages/torch/serialization.py:292: UserWarning: Couldn't retrieve source code for container of type Softmax. It won't be checked for correctness upon loading.\n",
      "  \"type \" + obj.__name__ + \". It won't be checked \"\n"
     ]
    }
   ],
   "source": [
    "device = 'cuda' if torch.cuda.is_available() else 'cpu'\n",
    "\n",
    "print(\"Using device: \" + device)\n",
    "\n",
    "height, width = 512, 512\n",
    "num_classes   = 4\n",
    "\n",
    "channels        = 3        \n",
    "kernel_size     = 3\n",
    "conv_stride     = 1\n",
    "conv_pad        = 1\n",
    "conv_drop_rate  = 0.4\n",
    "image_size      = 64\n",
    "\n",
    "# Writer will output to ./runs/ directory by default\n",
    "writer = SummaryWriter()\n",
    "\n",
    "network = Net(channels, kernel_size,conv_stride, conv_pad, conv_drop_rate, num_classes, image_size)\n",
    "print(network)\n",
    "network.to(device)\n",
    "LEARNING_RATE = 0.00001\n",
    "criterion = nn.CrossEntropyLoss()\n",
    "\n",
    "# weight_decay is equal to L2 regularization\n",
    "optimizer = optim.Adam(network.parameters(), lr=LEARNING_RATE)\n",
    "\n",
    "#training loop:\n",
    "\n",
    "num_epoch = 50\n",
    "batch_size = 64\n",
    "\n",
    "trainingloader, testloader, trainset, testset = createDataLoaders(batch_size, image_size)\n",
    "train_acc_all = []\n",
    "test_acc_all = []\n",
    "try:\n",
    "    for epoch in tqdm(range(num_epoch)):\n",
    "        running_loss = 0.0\n",
    "        train_correct = 0\n",
    "        for i, data in enumerate(trainingloader, 0):\n",
    "\n",
    "            inputs, labels = data\n",
    "            inputs, labels = Variable(inputs).to(device), Variable(labels).to(device)\n",
    "\n",
    "            optimizer.zero_grad()\n",
    "\n",
    "            optimizer\n",
    "\n",
    "            outputs = network(inputs)\n",
    "\n",
    "            loss = criterion(outputs, labels)\n",
    "            loss.backward()\n",
    "\n",
    "            optimizer.step()\n",
    "\n",
    "            running_loss += loss\n",
    "\n",
    "            predicted = outputs.argmax(1)\n",
    "            train_correct += (labels==predicted).sum().cpu().item()\n",
    "            \n",
    "            if i % 10 == 1:\n",
    "                print(\"[%d, %5d] loss: %.3f\" % \n",
    "                    (epoch + 1, i + 1, running_loss/1000))\n",
    "                running_loss = 0.0\n",
    "        \n",
    "        network.eval()\n",
    "        test_correct = 0.0\n",
    "        for data, target in testloader:\n",
    "            data = data.to(device)\n",
    "            with torch.no_grad():\n",
    "                output = network(data)\n",
    "            predicted = output.argmax(1).cpu()\n",
    "            test_correct += (target==predicted).sum().item()\n",
    "\n",
    "        train_acc = train_correct/len(trainset)\n",
    "        test_acc = test_correct/len(testset)\n",
    "        train_acc_all.append(train_acc)\n",
    "        test_acc_all.append(test_acc)\n",
    "        #writer.add_scalar('Loss/train', train_acc, epoch)\n",
    "        #writer.add_scalar('Loss/test', np.random.random(), epoch)\n",
    "        writer.add_scalar('Accuracy/train', train_correct*100//len(trainset), epoch + 1)\n",
    "        writer.add_scalar('Accuracy/test', test_correct*100//len(testset), epoch + 1)\n",
    "        if epoch % 3 == 0:\n",
    "            writer.flush()\n",
    "        print(\"Accuracy train: {train:.1f}%\\t test: {test:.1f}%\".format(test=100*test_acc, train=100*train_acc))\n",
    "except(KeyboardInterrupt):\n",
    "    print(\"Model saved\")\n",
    "    torch.save(network, \"model.pt\")\n",
    "    writer.close()\n",
    "    \n",
    "print(\"training over\")\n",
    "\n",
    "torch.save(network, \"model.pt\")\n",
    "\n",
    "print(\"Saved model\")"
   ]
  }
 ],
 "metadata": {
  "kernelspec": {
   "display_name": "Python 3",
   "language": "python",
   "name": "python3"
  },
  "language_info": {
   "codemirror_mode": {
    "name": "ipython",
    "version": 3
   },
   "file_extension": ".py",
   "mimetype": "text/x-python",
   "name": "python",
   "nbconvert_exporter": "python",
   "pygments_lexer": "ipython3",
   "version": "3.7.5"
  }
 },
 "nbformat": 4,
 "nbformat_minor": 2
}
